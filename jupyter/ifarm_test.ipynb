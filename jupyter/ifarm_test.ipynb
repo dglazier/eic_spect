{
 "cells": [
  {
   "cell_type": "code",
   "execution_count": 6,
   "metadata": {},
   "outputs": [
    {
     "data": {
      "text/plain": [
       "32768"
      ]
     },
     "execution_count": 6,
     "metadata": {},
     "output_type": "execute_result"
    },
    {
     "name": "stderr",
     "output_type": "stream",
     "text": [
      "fatal: destination path 'eic_spect' already exists and is not an empty directory.\n"
     ]
    }
   ],
   "source": [
    "# setup environment for ifarm\n",
    "import os\n",
    "import ROOT\n",
    "import getpass\n",
    "username = getpass.getuser()\n",
    "\n",
    "home_dir = '/home/%s/eic/' % username\n",
    "out_dir = '/volatile/halld/home/%s/eic/' % username\n",
    "\n",
    "os.system('mkdir -p %s' % home_dir)\n",
    "os.chdir(home_dir)\n",
    "os.listdir()\n",
    "os.system('git clone https://github.com/jrstevenjlab/eic_spect.git')"
   ]
  },
  {
   "cell_type": "code",
   "execution_count": 7,
   "metadata": {},
   "outputs": [],
   "source": [
    "from pyjano.jana import Jana\n",
    "jana = Jana()"
   ]
  },
  {
   "cell_type": "code",
   "execution_count": 8,
   "metadata": {},
   "outputs": [
    {
     "name": "stdout",
     "output_type": "stream",
     "text": [
      "/volatile/halld/home/jrsteven/eic/eic_spect/outTree/\n"
     ]
    }
   ],
   "source": [
    "# set input and output directories, then check contents\n",
    "input_dir = home_dir + 'eic_spect/lund_generated/'\n",
    "input_name = '10_100' # Beam energies: 5_41, 5_100, 10_100, 18_275 \n",
    "output_dir = out_dir + 'eic_spect/outTree/'\n",
    "os.system('mkdir -p %s' % output_dir)\n",
    "print(output_dir)"
   ]
  },
  {
   "cell_type": "code",
   "execution_count": 9,
   "metadata": {
    "collapsed": false,
    "jupyter": {
     "outputs_hidden": false
    },
    "pycharm": {
     "name": "#%%\n"
    }
   },
   "outputs": [
    {
     "name": "stdout",
     "output_type": "stream",
     "text": [
      "zc_10_100.txt  zc_18_275.txt  zc_5_100.txt  zc_5_41.txt\n"
     ]
    }
   ],
   "source": [
    "!ls {input_dir}"
   ]
  },
  {
   "cell_type": "code",
   "execution_count": 10,
   "metadata": {},
   "outputs": [],
   "source": [
    "!ls {output_dir}"
   ]
  },
  {
   "cell_type": "markdown",
   "metadata": {},
   "source": [
    "## Create ROOT TTrees from with smearing of all detectors"
   ]
  },
  {
   "cell_type": "code",
   "execution_count": null,
   "metadata": {
    "collapsed": false,
    "jupyter": {
     "outputs_hidden": false
    },
    "pycharm": {
     "name": "#%%\n"
    }
   },
   "outputs": [
    {
     "data": {
      "application/vnd.jupyter.widget-view+json": {
       "model_id": "0d42960d6e384661bcdd27384dde7614",
       "version_major": 2,
       "version_minor": 0
      },
      "text/plain": [
       "VBox(children=(HBox(children=(Button(description='Terminate', layout=Layout(display=''), style=ButtonStyle(), …"
      ]
     },
     "metadata": {},
     "output_type": "display_data"
    },
    {
     "data": {
      "application/vnd.jupyter.widget-view+json": {
       "model_id": "0b96797db5e94af293e42b7af476487f",
       "version_major": 2,
       "version_minor": 0
      },
      "text/plain": [
       "VBox(children=(HBox(children=(Button(description='Terminate', layout=Layout(display=''), style=ButtonStyle(), …"
      ]
     },
     "metadata": {},
     "output_type": "display_data"
    },
    {
     "data": {
      "application/vnd.jupyter.widget-view+json": {
       "model_id": "dc61c1fa4c854200aa03fe3eaf99c815",
       "version_major": 2,
       "version_minor": 0
      },
      "text/plain": [
       "VBox(children=(HBox(children=(Button(description='Terminate', layout=Layout(display=''), style=ButtonStyle(), …"
      ]
     },
     "metadata": {},
     "output_type": "display_data"
    }
   ],
   "source": [
    "# loop over detectors and make smeard files\n",
    "detectors = ['jleic', 'beast', 'ephenix']\n",
    "\n",
    "for detector_name in detectors:\n",
    "    Jana().plugin('lund_reader')\\\n",
    "          .plugin('event_writer')\\\n",
    "          .plugin('eic_smear', detector=detector_name)\\\n",
    "          .plugin('jana', nevents=5000, output='%s/zc_sm%s_%s.root' % (output_dir,detector_name,input_name))\\\n",
    "          .source('%s/zc_%s.txt' % (input_dir,input_name))\\\n",
    "          .run()"
   ]
  },
  {
   "cell_type": "markdown",
   "metadata": {},
   "source": [
    "## Plot momentum resolution (where you can choose the detector)"
   ]
  },
  {
   "cell_type": "code",
   "execution_count": 12,
   "metadata": {},
   "outputs": [],
   "source": [
    "# Open root file to test output\n",
    "detector = \"beast\"\n",
    "file = ROOT.TFile('%s/zc_sm%s_10_100.root' % (output_dir,detector))\n",
    "\n",
    "PSmearVsPOrig = ROOT.TH2D('PSmearVsPOrig', '; p_{orig} (GeV); p_{smear} (GeV)', 100, 0, 25, 100, 0, 25)\n",
    "DeltaPOverP = ROOT.TH1D('DeltaPOverP', '; #Delta p/p', 100, -0.1, 0.1)\n",
    "ele_only = ROOT.TCut('pdg==11') # e-\n",
    "pion_only = ROOT.TCut('pdg==211') # pi+\n",
    "\n",
    "# Reading a tree from the file\n",
    "tree = file.Get('events').Get('tree')\n",
    "\n",
    "# Filling the histograms from the tree\n",
    "canvas = ROOT.TCanvas('canvas', 'canvas',600,400)"
   ]
  },
  {
   "cell_type": "code",
   "execution_count": 13,
   "metadata": {},
   "outputs": [
    {
     "data": {
      "image/png": "[encoded data removed]",
      "text/plain": [
       "<IPython.core.display.Image object>"
      ]
     },
     "metadata": {},
     "output_type": "display_data"
    }
   ],
   "source": [
    "# e- smearing\n",
    "#tree.Draw('p:smear_orig_p >> PSmearVsPOrig', ele_only)\n",
    "tree.Draw('(p-smear_orig_p)/p >> DeltaPOverP', ele_only)\n",
    "DeltaPOverP.Draw()\n",
    "canvas.Draw()"
   ]
  },
  {
   "cell_type": "code",
   "execution_count": 14,
   "metadata": {},
   "outputs": [
    {
     "data": {
      "image/png": "[encoded data removed]",
      "text/plain": [
       "<IPython.core.display.Image object>"
      ]
     },
     "metadata": {},
     "output_type": "display_data"
    }
   ],
   "source": [
    "# pi+ smearing\n",
    "tree.Draw('p:smear_orig_p >> PSmearVsPOrig', pion_only)\n",
    "tree.Draw('(p-smear_orig_p)/p >> DeltaPOverP', pion_only)\n",
    "DeltaPOverP.Draw()\n",
    "canvas.Draw()"
   ]
  },
  {
   "cell_type": "code",
   "execution_count": null,
   "metadata": {},
   "outputs": [],
   "source": []
  }
 ],
 "metadata": {
  "kernelspec": {
   "display_name": "Python 3",
   "language": "python",
   "name": "python3"
  },
  "language_info": {
   "codemirror_mode": {
    "name": "ipython",
    "version": 3
   },
   "file_extension": ".py",
   "mimetype": "text/x-python",
   "name": "python",
   "nbconvert_exporter": "python",
   "pygments_lexer": "ipython3",
   "version": "3.7.3"
  },
  "pycharm": {
   "stem_cell": {
    "cell_type": "raw",
    "metadata": {
     "collapsed": false
    },
    "source": []
   }
  }
 },
 "nbformat": 4,
 "nbformat_minor": 4
}
