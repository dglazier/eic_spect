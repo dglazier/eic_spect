{
 "cells": [
  {
   "cell_type": "code",
   "execution_count": 2,
   "metadata": {},
   "outputs": [
    {
     "name": "stdout",
     "output_type": "stream",
     "text": [
      "Already up-to-date.\n",
      "-- Configuring done\n",
      "-- Generating done\n",
      "-- Build files have been written to: /container/app/eic-smear/build/master\n",
      "[100%] Built target eicsmear\n",
      "[100%] Built target eicsmear\n",
      "\u001b[36mInstall the project...\u001b[0m\n",
      "-- Install configuration: \"\"\n",
      "-- Up-to-date: /container/app/eic-smear/eic-smear-master/include/eicsmear/erhic\n",
      "-- Up-to-date: /container/app/eic-smear/eic-smear-master/include/eicsmear/erhic/EventGmcTrans.h\n",
      "-- Up-to-date: /container/app/eic-smear/eic-smear-master/include/eicsmear/erhic/EventBase.h\n",
      "-- Up-to-date: /container/app/eic-smear/eic-smear-master/include/eicsmear/erhic/ParticleIdentifier.h\n",
      "-- Up-to-date: /container/app/eic-smear/eic-smear-master/include/eicsmear/erhic/Kinematics.h\n",
      "-- Up-to-date: /container/app/eic-smear/eic-smear-master/include/eicsmear/erhic/Pythia6EventBuilder.h\n",
      "-- Up-to-date: /container/app/eic-smear/eic-smear-master/include/eicsmear/erhic/Pythia6ParticleBuilder.h\n",
      "-- Up-to-date: /container/app/eic-smear/eic-smear-master/include/eicsmear/erhic/EventMilou.h\n",
      "-- Up-to-date: /container/app/eic-smear/eic-smear-master/include/eicsmear/erhic/EventDpmjet.h\n",
      "-- Up-to-date: /container/app/eic-smear/eic-smear-master/include/eicsmear/erhic/EventFactory.h\n",
      "-- Up-to-date: /container/app/eic-smear/eic-smear-master/include/eicsmear/erhic/ParticleMC.h\n",
      "-- Up-to-date: /container/app/eic-smear/eic-smear-master/include/eicsmear/erhic/EventMC.h\n",
      "-- Up-to-date: /container/app/eic-smear/eic-smear-master/include/eicsmear/erhic/Pythia6.h\n",
      "-- Up-to-date: /container/app/eic-smear/eic-smear-master/include/eicsmear/erhic/Forester.h\n",
      "-- Up-to-date: /container/app/eic-smear/eic-smear-master/include/eicsmear/erhic/Pid.h\n",
      "-- Up-to-date: /container/app/eic-smear/eic-smear-master/include/eicsmear/erhic/EventDis.h\n",
      "-- Up-to-date: /container/app/eic-smear/eic-smear-master/include/eicsmear/erhic/DisKinematics.h\n",
      "-- Up-to-date: /container/app/eic-smear/eic-smear-master/include/eicsmear/erhic/EventPepsi.h\n",
      "-- Up-to-date: /container/app/eic-smear/eic-smear-master/include/eicsmear/erhic/EventDjangoh.h\n",
      "-- Up-to-date: /container/app/eic-smear/eic-smear-master/include/eicsmear/erhic/EventPythia.h\n",
      "-- Up-to-date: /container/app/eic-smear/eic-smear-master/include/eicsmear/erhic/VirtualEvent.h\n",
      "-- Up-to-date: /container/app/eic-smear/eic-smear-master/include/eicsmear/erhic/ForesterStatus.h.betterbutdifferent\n",
      "-- Up-to-date: /container/app/eic-smear/eic-smear-master/include/eicsmear/erhic/VirtualParticle.h\n",
      "-- Up-to-date: /container/app/eic-smear/eic-smear-master/include/eicsmear/erhic/BeamParticles.h\n",
      "-- Up-to-date: /container/app/eic-smear/eic-smear-master/include/eicsmear/erhic/Particle.h\n",
      "-- Up-to-date: /container/app/eic-smear/eic-smear-master/include/eicsmear/erhic/EventMCFilterABC.h\n",
      "-- Up-to-date: /container/app/eic-smear/eic-smear-master/include/eicsmear/erhic/File.h\n",
      "-- Up-to-date: /container/app/eic-smear/eic-smear-master/include/eicsmear/erhic/EventRapgap.h\n",
      "-- Up-to-date: /container/app/eic-smear/eic-smear-master/include/eicsmear/functions.h\n",
      "-- Up-to-date: /container/app/eic-smear/eic-smear-master/include/eicsmear/smear\n",
      "-- Up-to-date: /container/app/eic-smear/eic-smear-master/include/eicsmear/smear/Tracker.h\n",
      "-- Up-to-date: /container/app/eic-smear/eic-smear-master/include/eicsmear/smear/Smearer.h\n",
      "-- Up-to-date: /container/app/eic-smear/eic-smear-master/include/eicsmear/smear/Bremsstrahlung.h\n",
      "-- Up-to-date: /container/app/eic-smear/eic-smear-master/include/eicsmear/smear/EventSmear.h\n",
      "-- Up-to-date: /container/app/eic-smear/eic-smear-master/include/eicsmear/smear/PerfectID.h\n",
      "-- Up-to-date: /container/app/eic-smear/eic-smear-master/include/eicsmear/smear/EventFactory.h\n",
      "-- Up-to-date: /container/app/eic-smear/eic-smear-master/include/eicsmear/smear/EventS.h\n",
      "-- Up-to-date: /container/app/eic-smear/eic-smear-master/include/eicsmear/smear/functions.h\n",
      "-- Up-to-date: /container/app/eic-smear/eic-smear-master/include/eicsmear/smear/EventDisFactory.h\n",
      "-- Up-to-date: /container/app/eic-smear/eic-smear-master/include/eicsmear/smear/Acceptance.h\n",
      "-- Up-to-date: /container/app/eic-smear/eic-smear-master/include/eicsmear/smear/Detector.h\n",
      "-- Up-to-date: /container/app/eic-smear/eic-smear-master/include/eicsmear/smear/RadialTracker.h\n",
      "-- Up-to-date: /container/app/eic-smear/eic-smear-master/include/eicsmear/smear/ParticleID.h\n",
      "-- Up-to-date: /container/app/eic-smear/eic-smear-master/include/eicsmear/smear/Device.h\n",
      "-- Up-to-date: /container/app/eic-smear/eic-smear-master/include/eicsmear/smear/Smear.h\n",
      "-- Up-to-date: /container/app/eic-smear/eic-smear-master/include/eicsmear/smear/Distributor.h\n",
      "-- Up-to-date: /container/app/eic-smear/eic-smear-master/include/eicsmear/smear/FormulaString.h\n",
      "-- Up-to-date: /container/app/eic-smear/eic-smear-master/include/eicsmear/smear/PlanarTracker.h\n",
      "-- Up-to-date: /container/app/eic-smear/eic-smear-master/include/eicsmear/smear/ParticleMCS.h\n",
      "-- Up-to-date: /container/app/eic-smear/eic-smear-master/lib/libeicsmear.so\n",
      "-- Up-to-date: /container/app/eic-smear/eic-smear-master/lib/erhicDict_rdict.pcm\n",
      "-- Up-to-date: /container/app/eic-smear/eic-smear-master/lib/smearDict_rdict.pcm\n",
      "HEAD is now at e08fa91... Better analysis comments\n",
      "-- \n",
      "=============================================\n",
      "    F I N D   B A S I C   P A C K A G E S    \n",
      "=============================================\n",
      "-- \n",
      ">>>>    C E R N    R O O T    <<<<\n",
      "----------------------------------\n",
      "-- ejana: ROOTSYS provided /container/app/root/root-v6-20-00-patches\n",
      "-- Found Cern.ROOT version: 6.19/03\n",
      "-- \n",
      ">>>>    J A N A 2     <<<<\n",
      "--------------------------\n",
      "-- FindJANA: JANA2 provided /container/app/jana/jana-master\n",
      "-- FindJANA: Found jana-config: /container/app/jana/jana-master/bin/jana-config\n",
      "-- FindJANA: JANA_INCLUDE_DIRS:  /container/app/jana/jana-master/include\n",
      "-- FindJANA: JANA_DIR set to: /container/app/jana/jana-master\n",
      "-- FindJANA: JANA_LIB set to: /container/app/jana/jana-master/lib/libJANA.a\n",
      "-- \n",
      "=================================================\n",
      "    G E N E R A L   C O N F I G U R A T I O N    \n",
      "=================================================\n",
      "-- ejana: Setting default to c++11\n",
      "-- ejana: CPP_STANDARD: c++11\n",
      "-- ejana: Set default PLUGIN_OUTPUT_DIRECTORY\n",
      "-- ejana: PLUGIN_OUTPUT_DIRECTORY: /container/app/ejana/dev/cmake-build-debug\n",
      "-- \n",
      "=========================================\n",
      "    B U I L D   E J A N A   P A R T S    \n",
      "=========================================\n",
      "-- ejana: Building fmt library\n",
      "-- \n",
      ">>>>   P L U G I N :   jleic_occupancy    <<<<\n",
      "----------------------------------------------\n",
      "--    \n",
      "Source files to build:\n",
      "--    OccupancyAnalysis.cc\n",
      "--    jleic_occupancy.cc\n",
      "--    \n",
      "Header files to build:\n",
      "--    OccupancyAnalysis.h\n",
      "--    PtrByNameMapHelper.h\n",
      "-- \n",
      ">>>>   P L U G I N :   jleic_iff    <<<<\n",
      "----------------------------------------\n",
      "--    \n",
      "Source files to build:\n",
      "--    IonFarForwardAnalysis.cc\n",
      "--    jleic_iff.cc\n",
      "--    \n",
      "Header files to build:\n",
      "--    IonFarForwardAnalysis.h\n",
      "-- \n",
      ">>>>   P L U G I N :   vmeson    <<<<\n",
      "-------------------------------------\n",
      "--    \n",
      "Source files to build:\n",
      "--    Kin_Variables.cc\n",
      "--    VectorMesonProcessor.cc\n",
      "--    vmeson.cc\n",
      "--    \n",
      "Header files to build:\n",
      "--    Kin_Variables.h\n",
      "--    RootOutput.h\n",
      "--    VectorMesonProcessor.h\n",
      "-- \n",
      ">>>>   P L U G I N :   open_charm    <<<<\n",
      "-----------------------------------------\n",
      "--    \n",
      "Source files to build:\n",
      "--    OpenCharmProcessor.cc\n",
      "--    open_charm.cc\n",
      "--    \n",
      "Header files to build:\n",
      "--    OpenCharmProcessor.h\n",
      "--    OpenCharmRootOutput.h\n",
      "-- \n",
      ">>>>   P L U G I N :   meson_structure    <<<<\n",
      "----------------------------------------------\n",
      "--    \n",
      "Source files to build:\n",
      "--    MesonStructureProcessor.cc\n",
      "--    meson_structure.cc\n",
      "--    \n",
      "Header files to build:\n",
      "--    MesonStructureProcessor.h\n",
      "--    MesonStructureRootOutput.h\n",
      "-- \n",
      ">>>>   P L U G I N :   trk_eff    <<<<\n",
      "--------------------------------------\n",
      "--    \n",
      "Source files to build:\n",
      "--    TrackingEfficiencyProcessor.cc\n",
      "--    trk_eff.cc\n",
      "--    \n",
      "Header files to build:\n",
      "--    TrackingEfficiencyProcessor.h\n",
      "-- \n",
      ">>>>   P L U G I N :   eventless_writer    <<<<\n",
      "-----------------------------------------------\n",
      "--    \n",
      "Source files to build:\n",
      "--    EventlessProcessor.cc\n",
      "--    eventless_writer.cc\n",
      "--    \n",
      "Header files to build:\n",
      "--    EventlessProcessor.h\n",
      "--    EventlessRootOutput.h\n",
      "-- \n",
      ">>>>   P L U G I N :   event_writer    <<<<\n",
      "-------------------------------------------\n",
      "--    \n",
      "Source files to build:\n",
      "--    EventWriterProcessor.cc\n",
      "--    event_writer.cc\n",
      "--    \n",
      "Header files to build:\n",
      "--    EventWriterProcessor.h\n",
      "--    EventWriterRootOutput.h\n",
      "-- \n",
      ">>>>   P L U G I N :   sample_analysis    <<<<\n",
      "----------------------------------------------\n",
      "--    Source files to build:\n",
      "--    SampleAnalysis.cc\n",
      "--    sample_analysis.cc\n",
      "-- Header files to build:\n",
      "--    SampleAnalysis.h\n",
      "-- ejana_fmt \n",
      "-- \n",
      ">>>>   P L U G I N :   g4e_reader    <<<<\n",
      "-----------------------------------------\n",
      "--    Source files to build:\n",
      "--    Geant4EicEventSource.cc\n",
      "--    g4e_reader.cc\n",
      "-- Header files to build:\n",
      "--    Geant4EicEventSource.h\n",
      "--    GeantHit.h\n",
      "--    GeantPrimaryParticle.h\n",
      "--    GeantPrimaryVertex.h\n",
      "--    GeantTrack.h\n",
      "--    RootEventSelector.h\n",
      "-- ROOT_LIBRARIES /container/app/root/root-v6-20-00-patches/lib/libCore.so;/container/app/root/root-v6-20-00-patches/lib/libRIO.so;/container/app/root/root-v6-20-00-patches/lib/libNet.so;/container/app/root/root-v6-20-00-patches/lib/libHist.so;/container/app/root/root-v6-20-00-patches/lib/libGraf.so;/container/app/root/root-v6-20-00-patches/lib/libGraf3d.so;/container/app/root/root-v6-20-00-patches/lib/libGpad.so;/container/app/root/root-v6-20-00-patches/lib/libTree.so;/container/app/root/root-v6-20-00-patches/lib/libRint.so;/container/app/root/root-v6-20-00-patches/lib/libPostscript.so;/container/app/root/root-v6-20-00-patches/lib/libMatrix.so;/container/app/root/root-v6-20-00-patches/lib/libPhysics.so;/container/app/root/root-v6-20-00-patches/lib/libMathCore.so;/container/app/root/root-v6-20-00-patches/lib/libThread.so;/container/app/root/root-v6-20-00-patches/lib/libMultiProc.so;/container/app/root/root-v6-20-00-patches/lib/libGeom.so;/container/app/root/root-v6-20-00-patches/lib/libEG.so;/container/app/root/root-v6-20-00-patches/lib/libTreePlayer.so;/container/app/root/root-v6-20-00-patches/lib/libEve.so\n",
      "-- ejana_fmt \n",
      "-- \n",
      ">>>>   P L U G I N :   beagle_reader    <<<<\n",
      "--------------------------------------------\n",
      "--    \n",
      "Source files to build:\n",
      "--    JEventSource_beagle.cc\n",
      "--    beagle_reader.cc\n",
      "--    \n",
      "Header files to build:\n",
      "--    BeagleEventData.h\n",
      "--    BeagleParticle.h\n",
      "--    JEventSource_beagle.h\n",
      "-- \n",
      ">>>>   P L U G I N :   hepmc_reader    <<<<\n",
      "-------------------------------------------\n",
      "--    \n",
      "Source files to build:\n",
      "--    JEventSource_hepmc.cc\n",
      "--    hepmc_reader.cc\n",
      "--    \n",
      "Header files to build:\n",
      "--    HepMCEventData.h\n",
      "--    JEventSource_hepmc.h\n",
      "-- \n",
      ">>>>    H E P M C     <<<<\n",
      "--------------------------\n",
      "-- \n",
      ">>>>   P L U G I N :   lund_reader    <<<<\n",
      "------------------------------------------\n",
      "--    \n",
      "Source files to build:\n",
      "--    JEventSource_lund.cc\n",
      "--    lund_reader.cc\n",
      "--    \n",
      "Header files to build:\n",
      "--    JEventSource_lund.h\n",
      "--    LundEventData.h\n",
      "--    LundParticle.h\n",
      "-- ejana: Building eicroot4jana library\n",
      "-- \n",
      ">>>>   P L U G I N :   eic_smear    <<<<\n",
      "----------------------------------------\n",
      "--    Source files to build:\n",
      "--    BeASTDetector.cc\n",
      "--    JleicSmear.cc\n",
      "--    SmearingFactory.cc\n",
      "--    ZeusDetector.cc\n",
      "--    ePHENIXDetector.cc\n",
      "--    eic_smear.cc\n",
      "-- Header files to build:\n",
      "--    BeASTDetector.h\n",
      "--    JleicSmear.h\n",
      "--    SmearedEvent.h\n",
      "--    SmearingFactory.h\n",
      "--    ZeusDetector.h\n",
      "--    ePHENIXDetector.h\n",
      "-- ejana_fmt \n",
      "-- \n",
      ">>>>   P L U G I N :   trk_fit    <<<<\n",
      "--------------------------------------\n",
      "-- \n",
      ">>>>    G E N F I T    <<<<\n",
      "---------------------------\n",
      "-- ejana: GENFIT provided by ENV(GENFIT_DIR) /container/app/genfit/genfit-master\n",
      "-- ejana: GENFIT_LIBRARY      : /container/app/genfit/genfit-master/lib64/libgenfit2.so\n",
      "-- ejana: GENFIT_INCLUDE_DIR  : /container/app/genfit/genfit-master/include\n",
      "-- \n",
      ">>>>   P L U G I N :   trk_fit_genfit    <<<<\n",
      "---------------------------------------------\n",
      "-- \n",
      ">>>>   P L U G I N :   root_mt_bench    <<<<\n",
      "--------------------------------------------\n",
      "--    Source files to build:\n",
      "--    MultiThreadingAnalysis.cc\n",
      "--    root_mt_bench.cc\n",
      "-- Header files to build:\n",
      "--    DummyEventSource.h\n",
      "--    MultiThreadingAnalysis.h\n",
      "-- \n",
      "CMake processed subdirectories:\n",
      "-------------------------------\n",
      "-- plugins\n",
      "--    analysis\n",
      "--       jleic_occupancy\n",
      "--       jleic_iff\n",
      "--       vmeson\n",
      "--       open_charm\n",
      "--       meson_structure\n",
      "--       trk_eff\n",
      "--       eventless_writer\n",
      "--       event_writer\n",
      "--    examples\n",
      "--       sample_analysis\n",
      "--    io\n",
      "--       g4e_reader\n",
      "--       beagle_reader\n",
      "--       hepmc_reader\n",
      "--       lund_reader\n",
      "--    reco\n",
      "--       eic_smear\n",
      "--       trk_fit\n",
      "--       trk_fit_genfit\n",
      "--    utils\n",
      "--       root_mt_bench\n",
      "-- programs\n",
      "--    ejana\n",
      "-- \n",
      "-------------------------------\n",
      "-- Configuring done\n",
      "-- Generating done\n",
      "-- Build files have been written to: /container/app/ejana/dev/cmake-build-debug\n",
      "[  4%] Built target ejana_fmt\n",
      "[  9%] Built target jleic_occupancy\n",
      "[ 14%] Built target jleic_iff\n",
      "[ 20%] Built target vmeson\n",
      "\u001b[35m\u001b[1mScanning dependencies of target open_charm\u001b[0m\n",
      "[ 22%] \u001b[32mBuilding CXX object src/plugins/analysis/open_charm/CMakeFiles/open_charm.dir/OpenCharmProcessor.cc.o\u001b[0m\n",
      "\u001b[01m\u001b[K/container/app/ejana/dev/src/plugins/analysis/open_charm/OpenCharmProcessor.cc:\u001b[m\u001b[K In member function ‘\u001b[01m\u001b[Kvirtual void OpenCharmProcessor::Process(const std::shared_ptr<const JEvent>&)\u001b[m\u001b[K’:\n",
      "\u001b[01m\u001b[K/container/app/ejana/dev/src/plugins/analysis/open_charm/OpenCharmProcessor.cc:129:20:\u001b[m\u001b[K \u001b[01;35m\u001b[Kwarning: \u001b[m\u001b[Kunused variable ‘\u001b[01m\u001b[KPISL\u001b[m\u001b[K’ [\u001b[01;35m\u001b[K-Wunused-variable\u001b[m\u001b[K]\n",
      "             double \u001b[01;35m\u001b[KPISL\u001b[m\u001b[K[4]={0.,0., e_beam_energy, sqrt(e_beam_energy*e_beam_energy+MassE*MassE)};\n",
      "                    \u001b[01;35m\u001b[K^~~~\u001b[m\u001b[K\n",
      "\u001b[01m\u001b[K/container/app/ejana/dev/src/plugins/analysis/open_charm/OpenCharmProcessor.cc:130:20:\u001b[m\u001b[K \u001b[01;35m\u001b[Kwarning: \u001b[m\u001b[Kunused variable ‘\u001b[01m\u001b[KPISP\u001b[m\u001b[K’ [\u001b[01;35m\u001b[K-Wunused-variable\u001b[m\u001b[K]\n",
      "             double \u001b[01;35m\u001b[KPISP\u001b[m\u001b[K[4]={0.,0., -ion_beam_energy,sqrt(ion_beam_energy*ion_beam_energy+MassP*MassP)};\n",
      "                    \u001b[01;35m\u001b[K^~~~\u001b[m\u001b[K\n",
      "\u001b[01m\u001b[K/container/app/ejana/dev/src/plugins/analysis/open_charm/OpenCharmProcessor.cc:132:20:\u001b[m\u001b[K \u001b[01;35m\u001b[Kwarning: \u001b[m\u001b[Kunused variable ‘\u001b[01m\u001b[KPFSL\u001b[m\u001b[K’ [\u001b[01;35m\u001b[K-Wunused-variable\u001b[m\u001b[K]\n",
      "             double \u001b[01;35m\u001b[KPFSL\u001b[m\u001b[K[4]={ electron->p.px(), electron->p.py(),electron->p.pz(), sqrt(electron->p.E()*electron->p.E()+MassE*MassE)};\n",
      "                    \u001b[01;35m\u001b[K^~~~\u001b[m\u001b[K\n",
      "\u001b[01m\u001b[K/container/app/ejana/dev/src/plugins/analysis/open_charm/OpenCharmProcessor.cc:174:54:\u001b[m\u001b[K \u001b[01;35m\u001b[Kwarning: \u001b[m\u001b[Kdeclaration of ‘\u001b[01m\u001b[Klocker\u001b[m\u001b[K’ shadows a previous local [\u001b[01;35m\u001b[K-Wshadow\u001b[m\u001b[K]\n",
      "         std::lock_guard<std::recursive_mutex> locker(\u001b[01;35m\u001b[Kroot_out\u001b[m\u001b[K.lock);\n",
      "                                                      \u001b[01;35m\u001b[K^~~~~~~~\u001b[m\u001b[K\n",
      "\u001b[01m\u001b[K/container/app/ejana/dev/src/plugins/analysis/open_charm/OpenCharmProcessor.cc:106:43:\u001b[m\u001b[K \u001b[01;36m\u001b[Knote: \u001b[m\u001b[Kshadowed declaration is here\n",
      "     std::lock_guard<std::recursive_mutex> \u001b[01;36m\u001b[Klocker\u001b[m\u001b[K(root_out.lock);\n",
      "                                           \u001b[01;36m\u001b[K^~~~~~\u001b[m\u001b[K\n",
      "[ 23%] \u001b[32m\u001b[1mLinking CXX shared library ../../../../open_charm.so\u001b[0m\n",
      "[ 25%] Built target open_charm\n",
      "\u001b[35m\u001b[1mScanning dependencies of target meson_structure\u001b[0m\n",
      "[ 26%] \u001b[32mBuilding CXX object src/plugins/analysis/meson_structure/CMakeFiles/meson_structure.dir/MesonStructureProcessor.cc.o\u001b[0m\n",
      "\u001b[01m\u001b[K/container/app/ejana/dev/src/plugins/analysis/meson_structure/MesonStructureProcessor.cc:\u001b[m\u001b[K In member function ‘\u001b[01m\u001b[Kvirtual void MesonStructureProcessor::Process(const std::shared_ptr<const JEvent>&)\u001b[m\u001b[K’:\n",
      "\u001b[01m\u001b[K/container/app/ejana/dev/src/plugins/analysis/meson_structure/MesonStructureProcessor.cc:209:62:\u001b[m\u001b[K \u001b[01;35m\u001b[Kwarning: \u001b[m\u001b[Kdeclaration of ‘\u001b[01m\u001b[Klocker\u001b[m\u001b[K’ shadows a previous local [\u001b[01;35m\u001b[K-Wshadow\u001b[m\u001b[K]\n",
      "                 std::lock_guard<std::recursive_mutex> locker(\u001b[01;35m\u001b[Kroot_out\u001b[m\u001b[K.lock);\n",
      "                                                              \u001b[01;35m\u001b[K^~~~~~~~\u001b[m\u001b[K\n",
      "\u001b[01m\u001b[K/container/app/ejana/dev/src/plugins/analysis/meson_structure/MesonStructureProcessor.cc:93:43:\u001b[m\u001b[K \u001b[01;36m\u001b[Knote: \u001b[m\u001b[Kshadowed declaration is here\n",
      "     std::lock_guard<std::recursive_mutex> \u001b[01;36m\u001b[Klocker\u001b[m\u001b[K(root_out.lock);\n",
      "                                           \u001b[01;36m\u001b[K^~~~~~\u001b[m\u001b[K\n",
      "\u001b[01m\u001b[K/container/app/ejana/dev/src/plugins/analysis/meson_structure/MesonStructureProcessor.cc:107:12:\u001b[m\u001b[K \u001b[01;35m\u001b[Kwarning: \u001b[m\u001b[Kvariable ‘\u001b[01m\u001b[Ktrue_s_e\u001b[m\u001b[K’ set but not used [\u001b[01;35m\u001b[K-Wunused-but-set-variable\u001b[m\u001b[K]\n",
      "     double \u001b[01;35m\u001b[Ktrue_s_e\u001b[m\u001b[K;\n",
      "            \u001b[01;35m\u001b[K^~~~~~~~\u001b[m\u001b[K\n",
      "\u001b[01m\u001b[K/container/app/ejana/dev/src/plugins/analysis/meson_structure/MesonStructureProcessor.cc:108:12:\u001b[m\u001b[K \u001b[01;35m\u001b[Kwarning: \u001b[m\u001b[Kvariable ‘\u001b[01m\u001b[Ktrue_xpi\u001b[m\u001b[K’ set but not used [\u001b[01;35m\u001b[K-Wunused-but-set-variable\u001b[m\u001b[K]\n",
      "     double \u001b[01;35m\u001b[Ktrue_xpi\u001b[m\u001b[K;\n",
      "            \u001b[01;35m\u001b[K^~~~~~~~\u001b[m\u001b[K\n",
      "\u001b[01m\u001b[K/container/app/ejana/dev/src/plugins/analysis/meson_structure/MesonStructureProcessor.cc:109:12:\u001b[m\u001b[K \u001b[01;35m\u001b[Kwarning: \u001b[m\u001b[Kvariable ‘\u001b[01m\u001b[Ktrue_ypi\u001b[m\u001b[K’ set but not used [\u001b[01;35m\u001b[K-Wunused-but-set-variable\u001b[m\u001b[K]\n",
      "     double \u001b[01;35m\u001b[Ktrue_ypi\u001b[m\u001b[K;\n",
      "            \u001b[01;35m\u001b[K^~~~~~~~\u001b[m\u001b[K\n",
      "\u001b[01m\u001b[K/container/app/ejana/dev/src/plugins/analysis/meson_structure/MesonStructureProcessor.cc:110:12:\u001b[m\u001b[K \u001b[01;35m\u001b[Kwarning: \u001b[m\u001b[Kvariable ‘\u001b[01m\u001b[Ktrue_tpi\u001b[m\u001b[K’ set but not used [\u001b[01;35m\u001b[K-Wunused-but-set-variable\u001b[m\u001b[K]\n",
      "     double \u001b[01;35m\u001b[Ktrue_tpi\u001b[m\u001b[K;\n",
      "            \u001b[01;35m\u001b[K^~~~~~~~\u001b[m\u001b[K\n",
      "\u001b[01m\u001b[K/container/app/ejana/dev/src/plugins/analysis/meson_structure/MesonStructureProcessor.cc:112:12:\u001b[m\u001b[K \u001b[01;35m\u001b[Kwarning: \u001b[m\u001b[Kvariable ‘\u001b[01m\u001b[Khave_true_dis_info\u001b[m\u001b[K’ set but not used [\u001b[01;35m\u001b[K-Wunused-but-set-variable\u001b[m\u001b[K]\n",
      "     double \u001b[01;35m\u001b[Khave_true_dis_info\u001b[m\u001b[K = false;\n",
      "            \u001b[01;35m\u001b[K^~~~~~~~~~~~~~~~~~\u001b[m\u001b[K\n",
      "\u001b[01m\u001b[K/container/app/ejana/dev/src/plugins/analysis/meson_structure/MesonStructureProcessor.cc:\u001b[m\u001b[K At global scope:\n",
      "\u001b[01m\u001b[K/container/app/ejana/dev/src/plugins/analysis/meson_structure/MesonStructureProcessor.cc:51:29:\u001b[m\u001b[K \u001b[01;35m\u001b[Kwarning: \u001b[m\u001b[K‘\u001b[01m\u001b[Kvmrec\u001b[m\u001b[K’ defined but not used [\u001b[01;35m\u001b[K-Wunused-variable\u001b[m\u001b[K]\n",
      " static MesonStructureRecord \u001b[01;35m\u001b[Kvmrec\u001b[m\u001b[K;\n",
      "                             \u001b[01;35m\u001b[K^~~~~\u001b[m\u001b[K\n",
      "[ 28%] \u001b[32m\u001b[1mLinking CXX shared library ../../../../meson_structure.so\u001b[0m\n",
      "[ 30%] Built target meson_structure\n",
      "[ 34%] Built target trk_eff\n",
      "[ 39%] Built target eventless_writer\n",
      "[ 44%] Built target event_writer\n",
      "[ 49%] Built target sample_analysis\n",
      "[ 53%] Built target g4e_reader\n",
      "[ 58%] Built target beagle_reader\n",
      "[ 63%] Built target hepmc_reader\n",
      "[ 68%] Built target lund_reader\n",
      "\u001b[35m\u001b[1mScanning dependencies of target eic_smear\u001b[0m\n",
      "[ 69%] \u001b[32mBuilding CXX object src/plugins/reco/eic_smear/CMakeFiles/eic_smear.dir/BeASTDetector.cc.o\u001b[0m\n",
      "[ 71%] \u001b[32mBuilding CXX object src/plugins/reco/eic_smear/CMakeFiles/eic_smear.dir/SmearingFactory.cc.o\u001b[0m\n",
      "[ 73%] \u001b[32mBuilding CXX object src/plugins/reco/eic_smear/CMakeFiles/eic_smear.dir/ZeusDetector.cc.o\u001b[0m\n",
      "[ 74%] \u001b[32mBuilding CXX object src/plugins/reco/eic_smear/CMakeFiles/eic_smear.dir/ePHENIXDetector.cc.o\u001b[0m\n",
      "[ 76%] \u001b[32mBuilding CXX object src/plugins/reco/eic_smear/CMakeFiles/eic_smear.dir/eic_smear.cc.o\u001b[0m\n",
      "[ 77%] \u001b[32m\u001b[1mLinking CXX shared library ../../../../eic_smear.so\u001b[0m\n",
      "[ 79%] Built target eic_smear\n",
      "[ 85%] Built target trk_fit\n",
      "[ 92%] Built target trk_fit_genfit\n",
      "[ 96%] Built target root_mt_bench\n",
      "[100%] Built target ejana\n",
      "[  4%] Built target ejana_fmt\n",
      "[  9%] Built target jleic_occupancy\n",
      "[ 14%] Built target jleic_iff\n",
      "[ 20%] Built target vmeson\n",
      "[ 25%] Built target open_charm\n",
      "[ 30%] Built target meson_structure\n",
      "[ 34%] Built target trk_eff\n",
      "[ 39%] Built target eventless_writer\n",
      "[ 44%] Built target event_writer\n",
      "[ 49%] Built target sample_analysis\n",
      "[ 53%] Built target g4e_reader\n",
      "[ 58%] Built target beagle_reader\n",
      "[ 63%] Built target hepmc_reader\n",
      "[ 68%] Built target lund_reader\n",
      "[ 79%] Built target eic_smear\n",
      "[ 85%] Built target trk_fit\n",
      "[ 92%] Built target trk_fit_genfit\n",
      "[ 96%] Built target root_mt_bench\n",
      "[100%] Built target ejana\n",
      "\u001b[36mInstall the project...\u001b[0m\n",
      "-- Install configuration: \"\"\n",
      "-- Up-to-date: /container/app/ejana/dev/compiled/plugins/jleic_occupancy.so\n",
      "-- Up-to-date: /container/app/ejana/dev/compiled/plugins/jleic_iff.so\n",
      "-- Up-to-date: /container/app/ejana/dev/compiled/plugins/vmeson.so\n",
      "-- Installing: /container/app/ejana/dev/compiled/plugins/open_charm.so\n",
      "-- Set runtime path of \"/container/app/ejana/dev/compiled/plugins/open_charm.so\" to \"\"\n",
      "-- Installing: /container/app/ejana/dev/compiled/plugins/meson_structure.so\n",
      "-- Set runtime path of \"/container/app/ejana/dev/compiled/plugins/meson_structure.so\" to \"\"\n",
      "-- Up-to-date: /container/app/ejana/dev/compiled/plugins/trk_eff.so\n",
      "-- Up-to-date: /container/app/ejana/dev/compiled/plugins/eventless_writer.so\n",
      "-- Up-to-date: /container/app/ejana/dev/compiled/plugins/event_writer.so\n",
      "-- Up-to-date: /container/app/ejana/dev/compiled/plugins/sample_analysis.so\n",
      "-- Up-to-date: /container/app/ejana/dev/compiled/plugins/g4e_reader.so\n",
      "-- Up-to-date: /container/app/ejana/dev/compiled/plugins/beagle_reader.so\n",
      "-- Up-to-date: /container/app/ejana/dev/compiled/plugins/hepmc_reader.so\n",
      "-- Up-to-date: /container/app/ejana/dev/compiled/plugins/lund_reader.so\n",
      "-- Installing: /container/app/ejana/dev/compiled/plugins/eic_smear.so\n",
      "-- Set runtime path of \"/container/app/ejana/dev/compiled/plugins/eic_smear.so\" to \"\"\n",
      "-- Up-to-date: /container/app/ejana/dev/compiled/plugins/trk_fit.so\n",
      "-- Up-to-date: /container/app/ejana/dev/compiled/plugins/trk_fit_genfit.so\n",
      "-- Up-to-date: /container/app/ejana/dev/compiled/plugins/root_mt_bench.so\n",
      "-- Up-to-date: /container/app/ejana/dev/compiled/bin/ejana\n"
     ]
    }
   ],
   "source": [
    "# run \n",
    "setup = \"/home/eicuser/epw/share/eic_spect/dockerCommands.csh\"\n",
    "!source {setup};"
   ]
  },
  {
   "cell_type": "code",
   "execution_count": 3,
   "metadata": {},
   "outputs": [
    {
     "name": "stdout",
     "output_type": "stream",
     "text": [
      "Welcome to JupyROOT 6.19/03\n"
     ]
    }
   ],
   "source": [
    "import os\n",
    "import ROOT"
   ]
  },
  {
   "cell_type": "code",
   "execution_count": 4,
   "metadata": {},
   "outputs": [],
   "source": [
    "from pyjano.jana import Jana\n",
    "jana = Jana()"
   ]
  },
  {
   "cell_type": "code",
   "execution_count": 5,
   "metadata": {},
   "outputs": [
    {
     "data": {
      "text/html": [
       "        \n",
       "        <link rel=\"stylesheet\" href=\"/static/css/bootstrap.min.css\" crossorigin=\"anonymous\">\n",
       "        <script src=\"/static/js/bootstrap.min.js\"></script>        \n",
       "        <script src=\"/static/js/plugins.js\"></script>        \n",
       "        <link rel=\"stylesheet\" href=\"/static/css/pretty-checkbox.min.css\">\n",
       "        '<b>Pyjano</b> jupyter notebook interactive loaded...'        \n",
       "        "
      ],
      "text/plain": [
       "<IPython.core.display.HTML object>"
      ]
     },
     "metadata": {},
     "output_type": "display_data"
    },
    {
     "data": {
      "application/vnd.jupyter.widget-view+json": {
       "model_id": "c126cba98307482598022bd0393471a5",
       "version_major": 2,
       "version_minor": 0
      },
      "text/plain": [
       "HTML(value='\\n\\n\\n    <input type=\"hidden\" class=\".plugin_data_input\" value=\"\">\\n    <div class=\"row\">\\n      …"
      ]
     },
     "metadata": {},
     "output_type": "display_data"
    },
    {
     "data": {
      "application/javascript": [
       "\n",
       "            if(typeof jQuery=='undefined') {\n",
       "                var headTag = document.getElementsByTagName(\"head\")[0];\n",
       "                var jqTag = document.createElement('script');\n",
       "                jqTag.type = 'text/javascript';\n",
       "                jqTag.src = '/static/jsroot/libs/jquery.js';\n",
       "                jqTag.onload = activatePluginsGui;\n",
       "                headTag.appendChild(jqTag);\n",
       "            } else {\n",
       "                 activatePluginsGui();\n",
       "            }\n",
       "                "
      ],
      "text/plain": [
       "<IPython.core.display.Javascript object>"
      ]
     },
     "metadata": {},
     "output_type": "display_data"
    }
   ],
   "source": [
    "jana.plugins_gui()"
   ]
  },
  {
   "cell_type": "code",
   "execution_count": 6,
   "metadata": {},
   "outputs": [],
   "source": [
    "# set input and output directories, then check contents\n",
    "input_dir = '../lund_generated/'\n",
    "input_name = '10_100' # Beam energies: 5_41, 5_100, 10_100, 18_275 \n",
    "output_dir = '../outTree/'"
   ]
  },
  {
   "cell_type": "code",
   "execution_count": 7,
   "metadata": {
    "collapsed": false,
    "jupyter": {
     "outputs_hidden": false
    },
    "pycharm": {
     "name": "#%%\n"
    }
   },
   "outputs": [
    {
     "name": "stdout",
     "output_type": "stream",
     "text": [
      "zc_10_100.txt  zc_18_275.txt  zc_5_100.txt  zc_5_41.txt\n",
      "zc_nosm_10_100.root\tzc_smbeast_5_100.root\t  zc_smjleic_10_100.root\n",
      "zc_nosm_18_275.root\tzc_smbeast_5_41.root\t  zc_smjleic_18_275.root\n",
      "zc_nosm_5_100.root\tzc_smephenix_10_100.root  zc_smjleic_5_100.root\n",
      "zc_nosm_5_41.root\tzc_smephenix_18_275.root  zc_smjleic_5_41.root\n",
      "zc_smbeast_10_100.root\tzc_smephenix_5_100.root\n",
      "zc_smbeast_18_275.root\tzc_smephenix_5_41.root\n"
     ]
    }
   ],
   "source": [
    "!ls {input_dir}\n",
    "!ls {output_dir}"
   ]
  },
  {
   "cell_type": "markdown",
   "metadata": {},
   "source": [
    "Create ROOT TTrees from with smearing of all detectors"
   ]
  },
  {
   "cell_type": "code",
   "execution_count": 8,
   "metadata": {
    "collapsed": false,
    "jupyter": {
     "outputs_hidden": false
    },
    "pycharm": {
     "name": "#%%\n"
    }
   },
   "outputs": [
    {
     "data": {
      "application/vnd.jupyter.widget-view+json": {
       "model_id": "6765e5d5b73043c9973a086a1fe439b4",
       "version_major": 2,
       "version_minor": 0
      },
      "text/plain": [
       "VBox(children=(HBox(children=(Button(description='Terminate', layout=Layout(display=''), style=ButtonStyle(), …"
      ]
     },
     "metadata": {},
     "output_type": "display_data"
    }
   ],
   "source": [
    "# loop over detectors and make smeard files\n",
    "detectors = ['jleic', 'beast', 'ephenix']\n",
    "\n",
    "for detector_name in detectors:\n",
    "    Jana().plugin('lund_reader')\\\n",
    "          .plugin('event_writer')\\\n",
    "          .plugin('eic_smear', detector=detector_name)\\\n",
    "          .plugin('jana', nevents=50000, output='%s/zc_sm%s_%s.root' % (output_dir,detector_name,input_name))\\\n",
    "          .source('%s/zc_%s.txt' % (input_dir,input_name))\\\n",
    "          .run()"
   ]
  },
  {
   "cell_type": "markdown",
   "metadata": {},
   "source": [
    "To compare smeared data with not smeared, lets create also not smeared data set"
   ]
  },
  {
   "cell_type": "code",
   "execution_count": 9,
   "metadata": {
    "collapsed": false,
    "jupyter": {
     "outputs_hidden": false
    },
    "pycharm": {
     "name": "#%%\n"
    }
   },
   "outputs": [
    {
     "data": {
      "application/vnd.jupyter.widget-view+json": {
       "model_id": "6f5012c90caf4cf697f67c433d8b0aa5",
       "version_major": 2,
       "version_minor": 0
      },
      "text/plain": [
       "VBox(children=(HBox(children=(Button(description='Terminate', layout=Layout(display=''), style=ButtonStyle(), …"
      ]
     },
     "metadata": {},
     "output_type": "display_data"
    }
   ],
   "source": [
    "Jana().plugin('lund_reader')\\\n",
    "      .plugin('event_writer')\\\n",
    "      .plugin('jana', nevents=50000, output='%s/zc_nosm_%s.root' % (output_dir,input_name))\\\n",
    "      .source('%s/zc_%s.txt' % (input_dir,input_name))\\\n",
    "      .run()"
   ]
  },
  {
   "cell_type": "code",
   "execution_count": 13,
   "metadata": {},
   "outputs": [],
   "source": [
    "# Open root file to test output\n",
    "file = ROOT.TFile('%s/zc_smjleic_5_41.root' % (output_dir))"
   ]
  },
  {
   "cell_type": "code",
   "execution_count": 14,
   "metadata": {},
   "outputs": [],
   "source": [
    "# Preparing histograms\n",
    "xy_hist = ROOT.TH2D('xy_hist', 'Neutrons angle distribution', 60, -0.15, 0.15, 60, -0.15, 0.15)\n",
    "x_hist = ROOT.TH1D('x_hist', 'Neutrons horizontal angle distribution', 60, -0.15, 0.15)\n",
    "y_hist = ROOT.TH1D('y_hist', 'Neutrons vertical angle distribution', 60, -0.15, 0.15)\n",
    "e_hist = ROOT.TH1D('pt_hist', 'Neutrons Pt distribution; [GeV]', 140, 0, 4)\n",
    "\n",
    "#protons_only = ROOT.TCut('pdg==2112') # neutron\n",
    "#protons_only = ROOT.TCut('pdg==211')  # pi+\n",
    "#protons_only = ROOT.TCut('pdg==11')   # e-\n",
    "protons_only = ROOT.TCut('pdg==-11')  # e+"
   ]
  },
  {
   "cell_type": "code",
   "execution_count": 15,
   "metadata": {},
   "outputs": [
    {
     "data": {
      "text/plain": [
       "48990"
      ]
     },
     "execution_count": 15,
     "metadata": {},
     "output_type": "execute_result"
    }
   ],
   "source": [
    "# Reading a tree from the file\n",
    "tree = file.Get('events').Get('tree')\n",
    "\n",
    "# Filling the histograms from the tree\n",
    "canvas = ROOT.TCanvas('canvas', 'canvas',600,400)\n",
    "tree.Draw('asin(py/p):atan(px/pz) >> xy_hist', protons_only)\n",
    "tree.Draw('atan(px/pz) >> x_hist', protons_only)\n",
    "tree.Draw('asin(py/p) >> y_hist', protons_only)\n",
    "tree.Draw('sqrt(px*px+py*py) >> pt_hist', protons_only)"
   ]
  },
  {
   "cell_type": "code",
   "execution_count": 16,
   "metadata": {},
   "outputs": [
    {
     "data": {
      "image/png": "[encoded data removed]",
      "text/plain": [
       "<IPython.core.display.Image object>"
      ]
     },
     "metadata": {},
     "output_type": "display_data"
    }
   ],
   "source": [
    "pad = canvas.cd()\n",
    "pad.SetLogy(True)\n",
    "e_hist.Draw()\n",
    "canvas.Draw()"
   ]
  },
  {
   "cell_type": "code",
   "execution_count": 20,
   "metadata": {},
   "outputs": [],
   "source": [
    "# Code below not working for PYTHIA, wrong formatted input...\n",
    "input_dir = '../../PYTHIA_6.5/PHP/'\n",
    "input_name = 'pythia_e-p_10x100_Q0_100k_msel2_PHP'"
   ]
  },
  {
   "cell_type": "code",
   "execution_count": 21,
   "metadata": {},
   "outputs": [
    {
     "data": {
      "application/vnd.jupyter.widget-view+json": {
       "model_id": "11cdd0f5fc1a4013ae212ddf77f0f7fe",
       "version_major": 2,
       "version_minor": 0
      },
      "text/plain": [
       "VBox(children=(HBox(children=(Button(description='Terminate', layout=Layout(display=''), style=ButtonStyle(), …"
      ]
     },
     "metadata": {},
     "output_type": "display_data"
    }
   ],
   "source": [
    "Jana().plugin('lund_reader')\\\n",
    "      .plugin('event_writer')\\\n",
    "      .plugin('eic_smear', detector=\"jleic\")\\\n",
    "      .plugin('jana', nevents=10000, output='%s/pythia_smjleic.root' % (output_dir))\\\n",
    "      .source('%s/%s.txt' % (input_dir,input_name))\\\n",
    "      .run()"
   ]
  },
  {
   "cell_type": "code",
   "execution_count": 22,
   "metadata": {},
   "outputs": [
    {
     "data": {
      "application/vnd.jupyter.widget-view+json": {
       "model_id": "e430ec53080f41caa9301caa19bbdbfa",
       "version_major": 2,
       "version_minor": 0
      },
      "text/plain": [
       "VBox(children=(HBox(children=(Button(description='Terminate', layout=Layout(display=''), style=ButtonStyle(), …"
      ]
     },
     "metadata": {},
     "output_type": "display_data"
    }
   ],
   "source": [
    "Jana().plugin('lund_reader')\\\n",
    "      .plugin('event_writer')\\\n",
    "      .plugin('jana', nevents=10000, output='%s/pythia_nosm.root' % (output_dir))\\\n",
    "      .source('%s/%s.txt' % (input_dir,input_name))\\\n",
    "      .run()"
   ]
  },
  {
   "cell_type": "code",
   "execution_count": null,
   "metadata": {},
   "outputs": [],
   "source": []
  },
  {
   "cell_type": "code",
   "execution_count": 30,
   "metadata": {},
   "outputs": [
    {
     "data": {
      "text/plain": [
       "['selector_zc_C.d', 'selector_zc.C', 'runSelector.C', 'selector_zc.h']"
      ]
     },
     "execution_count": 30,
     "metadata": {},
     "output_type": "execute_result"
    }
   ],
   "source": [
    "# Run TSelector over trees to create Zc histograms\n",
    "import os\n",
    "os.chdir('/home/eicuser/epw/share/eic_spect/selector/')\n",
    "os.listdir()"
   ]
  },
  {
   "cell_type": "code",
   "execution_count": 31,
   "metadata": {},
   "outputs": [
    {
     "data": {
      "text/plain": [
       "0"
      ]
     },
     "execution_count": 31,
     "metadata": {},
     "output_type": "execute_result"
    },
    {
     "name": "stdout",
     "output_type": "stream",
     "text": [
      "\n",
      "Processing runSelector.C...\n",
      "Processing detector: jleic at 5_41\n",
      "Processing detector: jleic at 5_100\n",
      "Processing detector: jleic at 10_100\n",
      "Processing detector: jleic at 18_275\n",
      "Processing detector: beast at 5_41\n",
      "Processing detector: beast at 5_100\n",
      "Processing detector: beast at 10_100\n",
      "Processing detector: beast at 18_275\n",
      "Processing detector: ephenix at 5_41\n",
      "Processing detector: ephenix at 5_100\n",
      "Processing detector: ephenix at 10_100\n",
      "Processing detector: ephenix at 18_275\n"
     ]
    }
   ],
   "source": [
    "os.system('root -l -b -q runSelector.C')"
   ]
  },
  {
   "cell_type": "code",
   "execution_count": null,
   "metadata": {},
   "outputs": [],
   "source": [
    "# Run plotting macros to make plots"
   ]
  },
  {
   "cell_type": "code",
   "execution_count": null,
   "metadata": {},
   "outputs": [],
   "source": [
    "# Plotting macro in python workbook"
   ]
  }
 ],
 "metadata": {
  "kernelspec": {
   "display_name": "Python 3",
   "language": "python",
   "name": "python3"
  },
  "language_info": {
   "codemirror_mode": {
    "name": "ipython",
    "version": 3
   },
   "file_extension": ".py",
   "mimetype": "text/x-python",
   "name": "python",
   "nbconvert_exporter": "python",
   "pygments_lexer": "ipython3",
   "version": "3.7.6+"
  },
  "pycharm": {
   "stem_cell": {
    "cell_type": "raw",
    "metadata": {
     "collapsed": false
    },
    "source": []
   }
  }
 },
 "nbformat": 4,
 "nbformat_minor": 4
}
