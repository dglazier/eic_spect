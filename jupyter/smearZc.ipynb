{
 "cells": [
  {
   "cell_type": "code",
   "execution_count": 11,
   "metadata": {},
   "outputs": [
    {
     "name": "stdout",
     "output_type": "stream",
     "text": [
      "Already up-to-date.\n",
      "-- Configuring done\n",
      "-- Generating done\n",
      "-- Build files have been written to: /container/app/eic-smear/build/master\n",
      "[100%] Built target eicsmear\n",
      "[100%] Built target eicsmear\n",
      "\u001b[36mInstall the project...\u001b[0m\n",
      "-- Install configuration: \"\"\n",
      "-- Up-to-date: /container/app/eic-smear/eic-smear-master/include/eicsmear/erhic\n",
      "-- Up-to-date: /container/app/eic-smear/eic-smear-master/include/eicsmear/erhic/EventGmcTrans.h\n",
      "-- Up-to-date: /container/app/eic-smear/eic-smear-master/include/eicsmear/erhic/EventBase.h\n",
      "-- Up-to-date: /container/app/eic-smear/eic-smear-master/include/eicsmear/erhic/ParticleIdentifier.h\n",
      "-- Up-to-date: /container/app/eic-smear/eic-smear-master/include/eicsmear/erhic/Kinematics.h\n",
      "-- Up-to-date: /container/app/eic-smear/eic-smear-master/include/eicsmear/erhic/Pythia6EventBuilder.h\n",
      "-- Up-to-date: /container/app/eic-smear/eic-smear-master/include/eicsmear/erhic/Pythia6ParticleBuilder.h\n",
      "-- Up-to-date: /container/app/eic-smear/eic-smear-master/include/eicsmear/erhic/EventMilou.h\n",
      "-- Up-to-date: /container/app/eic-smear/eic-smear-master/include/eicsmear/erhic/EventDpmjet.h\n",
      "-- Up-to-date: /container/app/eic-smear/eic-smear-master/include/eicsmear/erhic/EventFactory.h\n",
      "-- Up-to-date: /container/app/eic-smear/eic-smear-master/include/eicsmear/erhic/ParticleMC.h\n",
      "-- Up-to-date: /container/app/eic-smear/eic-smear-master/include/eicsmear/erhic/EventMC.h\n",
      "-- Up-to-date: /container/app/eic-smear/eic-smear-master/include/eicsmear/erhic/Pythia6.h\n",
      "-- Up-to-date: /container/app/eic-smear/eic-smear-master/include/eicsmear/erhic/Forester.h\n",
      "-- Up-to-date: /container/app/eic-smear/eic-smear-master/include/eicsmear/erhic/Pid.h\n",
      "-- Up-to-date: /container/app/eic-smear/eic-smear-master/include/eicsmear/erhic/EventDis.h\n",
      "-- Up-to-date: /container/app/eic-smear/eic-smear-master/include/eicsmear/erhic/DisKinematics.h\n",
      "-- Up-to-date: /container/app/eic-smear/eic-smear-master/include/eicsmear/erhic/EventPepsi.h\n",
      "-- Up-to-date: /container/app/eic-smear/eic-smear-master/include/eicsmear/erhic/EventDjangoh.h\n",
      "-- Up-to-date: /container/app/eic-smear/eic-smear-master/include/eicsmear/erhic/EventPythia.h\n",
      "-- Up-to-date: /container/app/eic-smear/eic-smear-master/include/eicsmear/erhic/VirtualEvent.h\n",
      "-- Up-to-date: /container/app/eic-smear/eic-smear-master/include/eicsmear/erhic/ForesterStatus.h.betterbutdifferent\n",
      "-- Up-to-date: /container/app/eic-smear/eic-smear-master/include/eicsmear/erhic/VirtualParticle.h\n",
      "-- Up-to-date: /container/app/eic-smear/eic-smear-master/include/eicsmear/erhic/BeamParticles.h\n",
      "-- Up-to-date: /container/app/eic-smear/eic-smear-master/include/eicsmear/erhic/Particle.h\n",
      "-- Up-to-date: /container/app/eic-smear/eic-smear-master/include/eicsmear/erhic/EventMCFilterABC.h\n",
      "-- Up-to-date: /container/app/eic-smear/eic-smear-master/include/eicsmear/erhic/File.h\n",
      "-- Up-to-date: /container/app/eic-smear/eic-smear-master/include/eicsmear/erhic/EventRapgap.h\n",
      "-- Up-to-date: /container/app/eic-smear/eic-smear-master/include/eicsmear/functions.h\n",
      "-- Up-to-date: /container/app/eic-smear/eic-smear-master/include/eicsmear/smear\n",
      "-- Up-to-date: /container/app/eic-smear/eic-smear-master/include/eicsmear/smear/Tracker.h\n",
      "-- Up-to-date: /container/app/eic-smear/eic-smear-master/include/eicsmear/smear/Smearer.h\n",
      "-- Up-to-date: /container/app/eic-smear/eic-smear-master/include/eicsmear/smear/Bremsstrahlung.h\n",
      "-- Up-to-date: /container/app/eic-smear/eic-smear-master/include/eicsmear/smear/EventSmear.h\n",
      "-- Up-to-date: /container/app/eic-smear/eic-smear-master/include/eicsmear/smear/PerfectID.h\n",
      "-- Up-to-date: /container/app/eic-smear/eic-smear-master/include/eicsmear/smear/EventFactory.h\n",
      "-- Up-to-date: /container/app/eic-smear/eic-smear-master/include/eicsmear/smear/EventS.h\n",
      "-- Up-to-date: /container/app/eic-smear/eic-smear-master/include/eicsmear/smear/functions.h\n",
      "-- Up-to-date: /container/app/eic-smear/eic-smear-master/include/eicsmear/smear/EventDisFactory.h\n",
      "-- Up-to-date: /container/app/eic-smear/eic-smear-master/include/eicsmear/smear/Acceptance.h\n",
      "-- Up-to-date: /container/app/eic-smear/eic-smear-master/include/eicsmear/smear/Detector.h\n",
      "-- Up-to-date: /container/app/eic-smear/eic-smear-master/include/eicsmear/smear/RadialTracker.h\n",
      "-- Up-to-date: /container/app/eic-smear/eic-smear-master/include/eicsmear/smear/ParticleID.h\n",
      "-- Up-to-date: /container/app/eic-smear/eic-smear-master/include/eicsmear/smear/Device.h\n",
      "-- Up-to-date: /container/app/eic-smear/eic-smear-master/include/eicsmear/smear/Smear.h\n",
      "-- Up-to-date: /container/app/eic-smear/eic-smear-master/include/eicsmear/smear/Distributor.h\n",
      "-- Up-to-date: /container/app/eic-smear/eic-smear-master/include/eicsmear/smear/FormulaString.h\n",
      "-- Up-to-date: /container/app/eic-smear/eic-smear-master/include/eicsmear/smear/PlanarTracker.h\n",
      "-- Up-to-date: /container/app/eic-smear/eic-smear-master/include/eicsmear/smear/ParticleMCS.h\n",
      "-- Up-to-date: /container/app/eic-smear/eic-smear-master/lib/libeicsmear.so\n",
      "-- Up-to-date: /container/app/eic-smear/eic-smear-master/lib/erhicDict_rdict.pcm\n",
      "-- Up-to-date: /container/app/eic-smear/eic-smear-master/lib/smearDict_rdict.pcm\n",
      "HEAD is now at e08fa91... Better analysis comments\n",
      "-- \n",
      "=============================================\n",
      "    F I N D   B A S I C   P A C K A G E S    \n",
      "=============================================\n",
      "-- \n",
      ">>>>    C E R N    R O O T    <<<<\n",
      "----------------------------------\n",
      "-- ejana: ROOTSYS provided /container/app/root/root-v6-20-00-patches\n",
      "-- Found Cern.ROOT version: 6.19/03\n",
      "-- \n",
      ">>>>    J A N A 2     <<<<\n",
      "--------------------------\n",
      "-- FindJANA: JANA2 provided /container/app/jana/jana-master\n",
      "-- FindJANA: Found jana-config: /container/app/jana/jana-master/bin/jana-config\n",
      "-- FindJANA: JANA_INCLUDE_DIRS:  /container/app/jana/jana-master/include\n",
      "-- FindJANA: JANA_DIR set to: /container/app/jana/jana-master\n",
      "-- FindJANA: JANA_LIB set to: /container/app/jana/jana-master/lib/libJANA.a\n",
      "-- \n",
      "=================================================\n",
      "    G E N E R A L   C O N F I G U R A T I O N    \n",
      "=================================================\n",
      "-- ejana: Setting default to c++11\n",
      "-- ejana: CPP_STANDARD: c++11\n",
      "-- ejana: Set default PLUGIN_OUTPUT_DIRECTORY\n",
      "-- ejana: PLUGIN_OUTPUT_DIRECTORY: /container/app/ejana/dev/cmake-build-debug\n",
      "-- \n",
      "=========================================\n",
      "    B U I L D   E J A N A   P A R T S    \n",
      "=========================================\n",
      "-- ejana: Building fmt library\n",
      "-- \n",
      ">>>>   P L U G I N :   jleic_occupancy    <<<<\n",
      "----------------------------------------------\n",
      "--    \n",
      "Source files to build:\n",
      "--    OccupancyAnalysis.cc\n",
      "--    jleic_occupancy.cc\n",
      "--    \n",
      "Header files to build:\n",
      "--    OccupancyAnalysis.h\n",
      "--    PtrByNameMapHelper.h\n",
      "-- \n",
      ">>>>   P L U G I N :   jleic_iff    <<<<\n",
      "----------------------------------------\n",
      "--    \n",
      "Source files to build:\n",
      "--    IonFarForwardAnalysis.cc\n",
      "--    jleic_iff.cc\n",
      "--    \n",
      "Header files to build:\n",
      "--    IonFarForwardAnalysis.h\n",
      "-- \n",
      ">>>>   P L U G I N :   vmeson    <<<<\n",
      "-------------------------------------\n",
      "--    \n",
      "Source files to build:\n",
      "--    Kin_Variables.cc\n",
      "--    VectorMesonProcessor.cc\n",
      "--    vmeson.cc\n",
      "--    \n",
      "Header files to build:\n",
      "--    Kin_Variables.h\n",
      "--    RootOutput.h\n",
      "--    VectorMesonProcessor.h\n",
      "-- \n",
      ">>>>   P L U G I N :   open_charm    <<<<\n",
      "-----------------------------------------\n",
      "--    \n",
      "Source files to build:\n",
      "--    OpenCharmProcessor.cc\n",
      "--    open_charm.cc\n",
      "--    \n",
      "Header files to build:\n",
      "--    OpenCharmProcessor.h\n",
      "--    OpenCharmRootOutput.h\n",
      "-- \n",
      ">>>>   P L U G I N :   meson_structure    <<<<\n",
      "----------------------------------------------\n",
      "--    \n",
      "Source files to build:\n",
      "--    MesonStructureProcessor.cc\n",
      "--    meson_structure.cc\n",
      "--    \n",
      "Header files to build:\n",
      "--    MesonStructureProcessor.h\n",
      "--    MesonStructureRootOutput.h\n",
      "-- \n",
      ">>>>   P L U G I N :   trk_eff    <<<<\n",
      "--------------------------------------\n",
      "--    \n",
      "Source files to build:\n",
      "--    TrackingEfficiencyProcessor.cc\n",
      "--    trk_eff.cc\n",
      "--    \n",
      "Header files to build:\n",
      "--    TrackingEfficiencyProcessor.h\n",
      "-- \n",
      ">>>>   P L U G I N :   eventless_writer    <<<<\n",
      "-----------------------------------------------\n",
      "--    \n",
      "Source files to build:\n",
      "--    EventlessProcessor.cc\n",
      "--    eventless_writer.cc\n",
      "--    \n",
      "Header files to build:\n",
      "--    EventlessProcessor.h\n",
      "--    EventlessRootOutput.h\n",
      "-- \n",
      ">>>>   P L U G I N :   event_writer    <<<<\n",
      "-------------------------------------------\n",
      "--    \n",
      "Source files to build:\n",
      "--    EventWriterProcessor.cc\n",
      "--    event_writer.cc\n",
      "--    \n",
      "Header files to build:\n",
      "--    EventWriterProcessor.h\n",
      "--    EventWriterRootOutput.h\n",
      "-- \n",
      ">>>>   P L U G I N :   sample_analysis    <<<<\n",
      "----------------------------------------------\n",
      "--    Source files to build:\n",
      "--    SampleAnalysis.cc\n",
      "--    sample_analysis.cc\n",
      "-- Header files to build:\n",
      "--    SampleAnalysis.h\n",
      "-- ejana_fmt \n",
      "-- \n",
      ">>>>   P L U G I N :   g4e_reader    <<<<\n",
      "-----------------------------------------\n",
      "--    Source files to build:\n",
      "--    Geant4EicEventSource.cc\n",
      "--    g4e_reader.cc\n",
      "-- Header files to build:\n",
      "--    Geant4EicEventSource.h\n",
      "--    GeantHit.h\n",
      "--    GeantPrimaryParticle.h\n",
      "--    GeantPrimaryVertex.h\n",
      "--    GeantTrack.h\n",
      "--    RootEventSelector.h\n",
      "-- ROOT_LIBRARIES /container/app/root/root-v6-20-00-patches/lib/libCore.so;/container/app/root/root-v6-20-00-patches/lib/libRIO.so;/container/app/root/root-v6-20-00-patches/lib/libNet.so;/container/app/root/root-v6-20-00-patches/lib/libHist.so;/container/app/root/root-v6-20-00-patches/lib/libGraf.so;/container/app/root/root-v6-20-00-patches/lib/libGraf3d.so;/container/app/root/root-v6-20-00-patches/lib/libGpad.so;/container/app/root/root-v6-20-00-patches/lib/libTree.so;/container/app/root/root-v6-20-00-patches/lib/libRint.so;/container/app/root/root-v6-20-00-patches/lib/libPostscript.so;/container/app/root/root-v6-20-00-patches/lib/libMatrix.so;/container/app/root/root-v6-20-00-patches/lib/libPhysics.so;/container/app/root/root-v6-20-00-patches/lib/libMathCore.so;/container/app/root/root-v6-20-00-patches/lib/libThread.so;/container/app/root/root-v6-20-00-patches/lib/libMultiProc.so;/container/app/root/root-v6-20-00-patches/lib/libGeom.so;/container/app/root/root-v6-20-00-patches/lib/libEG.so;/container/app/root/root-v6-20-00-patches/lib/libTreePlayer.so;/container/app/root/root-v6-20-00-patches/lib/libEve.so\n",
      "-- ejana_fmt \n",
      "-- \n",
      ">>>>   P L U G I N :   beagle_reader    <<<<\n",
      "--------------------------------------------\n",
      "--    \n",
      "Source files to build:\n",
      "--    JEventSource_beagle.cc\n",
      "--    beagle_reader.cc\n",
      "--    \n",
      "Header files to build:\n",
      "--    BeagleEventData.h\n",
      "--    BeagleParticle.h\n",
      "--    JEventSource_beagle.h\n",
      "-- \n",
      ">>>>   P L U G I N :   hepmc_reader    <<<<\n",
      "-------------------------------------------\n",
      "--    \n",
      "Source files to build:\n",
      "--    JEventSource_hepmc.cc\n",
      "--    hepmc_reader.cc\n",
      "--    \n",
      "Header files to build:\n",
      "--    HepMCEventData.h\n",
      "--    JEventSource_hepmc.h\n",
      "-- \n",
      ">>>>    H E P M C     <<<<\n",
      "--------------------------\n",
      "-- \n",
      ">>>>   P L U G I N :   lund_reader    <<<<\n",
      "------------------------------------------\n",
      "--    \n",
      "Source files to build:\n",
      "--    JEventSource_lund.cc\n",
      "--    lund_reader.cc\n",
      "--    \n",
      "Header files to build:\n",
      "--    JEventSource_lund.h\n",
      "--    LundEventData.h\n",
      "--    LundParticle.h\n",
      "-- ejana: Building eicroot4jana library\n",
      "-- \n",
      ">>>>   P L U G I N :   eic_smear    <<<<\n",
      "----------------------------------------\n",
      "--    Source files to build:\n",
      "--    BeASTDetector.cc\n",
      "--    JleicSmear.cc\n",
      "--    SmearingFactory.cc\n",
      "--    ZeusDetector.cc\n",
      "--    ePHENIXDetector.cc\n",
      "--    eic_smear.cc\n",
      "-- Header files to build:\n",
      "--    BeASTDetector.h\n",
      "--    JleicSmear.h\n",
      "--    SmearedEvent.h\n",
      "--    SmearingFactory.h\n",
      "--    ZeusDetector.h\n",
      "--    ePHENIXDetector.h\n",
      "-- ejana_fmt \n",
      "-- \n",
      ">>>>   P L U G I N :   trk_fit    <<<<\n",
      "--------------------------------------\n",
      "-- \n",
      ">>>>    G E N F I T    <<<<\n",
      "---------------------------\n",
      "-- ejana: GENFIT provided by ENV(GENFIT_DIR) /container/app/genfit/genfit-master\n",
      "-- ejana: GENFIT_LIBRARY      : /container/app/genfit/genfit-master/lib64/libgenfit2.so\n",
      "-- ejana: GENFIT_INCLUDE_DIR  : /container/app/genfit/genfit-master/include\n",
      "-- \n",
      ">>>>   P L U G I N :   trk_fit_genfit    <<<<\n",
      "---------------------------------------------\n",
      "-- \n",
      ">>>>   P L U G I N :   root_mt_bench    <<<<\n",
      "--------------------------------------------\n",
      "--    Source files to build:\n",
      "--    MultiThreadingAnalysis.cc\n",
      "--    root_mt_bench.cc\n",
      "-- Header files to build:\n",
      "--    DummyEventSource.h\n",
      "--    MultiThreadingAnalysis.h\n",
      "-- \n",
      "CMake processed subdirectories:\n",
      "-------------------------------\n",
      "-- plugins\n",
      "--    analysis\n",
      "--       jleic_occupancy\n",
      "--       jleic_iff\n",
      "--       vmeson\n",
      "--       open_charm\n",
      "--       meson_structure\n",
      "--       trk_eff\n",
      "--       eventless_writer\n",
      "--       event_writer\n",
      "--    examples\n",
      "--       sample_analysis\n",
      "--    io\n",
      "--       g4e_reader\n",
      "--       beagle_reader\n",
      "--       hepmc_reader\n",
      "--       lund_reader\n",
      "--    reco\n",
      "--       eic_smear\n",
      "--       trk_fit\n",
      "--       trk_fit_genfit\n",
      "--    utils\n",
      "--       root_mt_bench\n",
      "-- programs\n",
      "--    ejana\n",
      "-- \n",
      "-------------------------------\n",
      "-- Configuring done\n",
      "-- Generating done\n",
      "-- Build files have been written to: /container/app/ejana/dev/cmake-build-debug\n",
      "[  4%] Built target ejana_fmt\n",
      "[  9%] Built target jleic_occupancy\n",
      "[ 14%] Built target jleic_iff\n",
      "[ 20%] Built target vmeson\n",
      "[ 25%] Built target open_charm\n",
      "[ 30%] Built target meson_structure\n",
      "[ 34%] Built target trk_eff\n",
      "[ 39%] Built target eventless_writer\n",
      "[ 44%] Built target event_writer\n",
      "[ 49%] Built target sample_analysis\n",
      "[ 53%] Built target g4e_reader\n",
      "[ 58%] Built target beagle_reader\n",
      "[ 63%] Built target hepmc_reader\n",
      "[ 68%] Built target lund_reader\n",
      "[ 79%] Built target eic_smear\n",
      "[ 85%] Built target trk_fit\n",
      "[ 92%] Built target trk_fit_genfit\n",
      "[ 96%] Built target root_mt_bench\n",
      "[100%] Built target ejana\n",
      "[  4%] Built target ejana_fmt\n",
      "[  9%] Built target jleic_occupancy\n",
      "[ 14%] Built target jleic_iff\n",
      "[ 20%] Built target vmeson\n",
      "[ 25%] Built target open_charm\n",
      "[ 30%] Built target meson_structure\n",
      "[ 34%] Built target trk_eff\n",
      "[ 39%] Built target eventless_writer\n",
      "[ 44%] Built target event_writer\n",
      "[ 49%] Built target sample_analysis\n",
      "[ 53%] Built target g4e_reader\n",
      "[ 58%] Built target beagle_reader\n",
      "[ 63%] Built target hepmc_reader\n",
      "[ 68%] Built target lund_reader\n",
      "[ 79%] Built target eic_smear\n",
      "[ 85%] Built target trk_fit\n",
      "[ 92%] Built target trk_fit_genfit\n",
      "[ 96%] Built target root_mt_bench\n",
      "[100%] Built target ejana\n",
      "\u001b[36mInstall the project...\u001b[0m\n",
      "-- Install configuration: \"\"\n",
      "-- Up-to-date: /container/app/ejana/dev/compiled/plugins/jleic_occupancy.so\n",
      "-- Up-to-date: /container/app/ejana/dev/compiled/plugins/jleic_iff.so\n",
      "-- Up-to-date: /container/app/ejana/dev/compiled/plugins/vmeson.so\n",
      "-- Up-to-date: /container/app/ejana/dev/compiled/plugins/open_charm.so\n",
      "-- Up-to-date: /container/app/ejana/dev/compiled/plugins/meson_structure.so\n",
      "-- Up-to-date: /container/app/ejana/dev/compiled/plugins/trk_eff.so\n",
      "-- Up-to-date: /container/app/ejana/dev/compiled/plugins/eventless_writer.so\n",
      "-- Up-to-date: /container/app/ejana/dev/compiled/plugins/event_writer.so\n",
      "-- Up-to-date: /container/app/ejana/dev/compiled/plugins/sample_analysis.so\n",
      "-- Up-to-date: /container/app/ejana/dev/compiled/plugins/g4e_reader.so\n",
      "-- Up-to-date: /container/app/ejana/dev/compiled/plugins/beagle_reader.so\n",
      "-- Up-to-date: /container/app/ejana/dev/compiled/plugins/hepmc_reader.so\n",
      "-- Up-to-date: /container/app/ejana/dev/compiled/plugins/lund_reader.so\n",
      "-- Up-to-date: /container/app/ejana/dev/compiled/plugins/eic_smear.so\n",
      "-- Up-to-date: /container/app/ejana/dev/compiled/plugins/trk_fit.so\n",
      "-- Up-to-date: /container/app/ejana/dev/compiled/plugins/trk_fit_genfit.so\n",
      "-- Up-to-date: /container/app/ejana/dev/compiled/plugins/root_mt_bench.so\n",
      "-- Up-to-date: /container/app/ejana/dev/compiled/bin/ejana\n"
     ]
    }
   ],
   "source": [
    "# run setup script to update ejana and eic-smear for outdated docker container\n",
    "import os\n",
    "home_dir = '/home/eicuser/epw/share/eic_spect/'\n",
    "setup = \"/home/eicuser/epw/share/eic_spect/dockerCommands.csh\"\n",
    "!source {setup};"
   ]
  },
  {
   "cell_type": "code",
   "execution_count": 12,
   "metadata": {},
   "outputs": [],
   "source": [
    "import ROOT"
   ]
  },
  {
   "cell_type": "code",
   "execution_count": 13,
   "metadata": {},
   "outputs": [],
   "source": [
    "from pyjano.jana import Jana\n",
    "jana = Jana()"
   ]
  },
  {
   "cell_type": "code",
   "execution_count": 14,
   "metadata": {},
   "outputs": [
    {
     "data": {
      "text/html": [
       "        \n",
       "        <link rel=\"stylesheet\" href=\"/static/css/bootstrap.min.css\" crossorigin=\"anonymous\">\n",
       "        <script src=\"/static/js/bootstrap.min.js\"></script>        \n",
       "        <script src=\"/static/js/plugins.js\"></script>        \n",
       "        <link rel=\"stylesheet\" href=\"/static/css/pretty-checkbox.min.css\">\n",
       "        '<b>Pyjano</b> jupyter notebook interactive loaded...'        \n",
       "        "
      ],
      "text/plain": [
       "<IPython.core.display.HTML object>"
      ]
     },
     "metadata": {},
     "output_type": "display_data"
    },
    {
     "data": {
      "application/vnd.jupyter.widget-view+json": {
       "model_id": "3e971d8ab9d7413395304b0d268ffbef",
       "version_major": 2,
       "version_minor": 0
      },
      "text/plain": [
       "HTML(value='\\n\\n\\n    <input type=\"hidden\" class=\".plugin_data_input\" value=\"\">\\n    <div class=\"row\">\\n      …"
      ]
     },
     "metadata": {},
     "output_type": "display_data"
    },
    {
     "data": {
      "application/javascript": [
       "\n",
       "            if(typeof jQuery=='undefined') {\n",
       "                var headTag = document.getElementsByTagName(\"head\")[0];\n",
       "                var jqTag = document.createElement('script');\n",
       "                jqTag.type = 'text/javascript';\n",
       "                jqTag.src = '/static/jsroot/libs/jquery.js';\n",
       "                jqTag.onload = activatePluginsGui;\n",
       "                headTag.appendChild(jqTag);\n",
       "            } else {\n",
       "                 activatePluginsGui();\n",
       "            }\n",
       "                "
      ],
      "text/plain": [
       "<IPython.core.display.Javascript object>"
      ]
     },
     "metadata": {},
     "output_type": "display_data"
    }
   ],
   "source": [
    "jana.plugins_gui()"
   ]
  },
  {
   "cell_type": "code",
   "execution_count": 17,
   "metadata": {},
   "outputs": [
    {
     "data": {
      "text/plain": [
       "0"
      ]
     },
     "execution_count": 17,
     "metadata": {},
     "output_type": "execute_result"
    }
   ],
   "source": [
    "# set input and output directories, then check contents\n",
    "input_name = '5_41' # Beam energies: 5_41, 5_100, 10_100, 18_275 \n",
    "\n",
    "input_dir = home_dir + 'lund_generated/'\n",
    "output_dir = home_dir + 'outTree/'\n",
    "os.system('mkdir -p %s' % output_dir)"
   ]
  },
  {
   "cell_type": "code",
   "execution_count": 18,
   "metadata": {
    "collapsed": false,
    "jupyter": {
     "outputs_hidden": false
    },
    "pycharm": {
     "name": "#%%\n"
    }
   },
   "outputs": [
    {
     "name": "stdout",
     "output_type": "stream",
     "text": [
      "zc_10_100.txt  zc_18_275.txt  zc_5_100.txt  zc_5_41.txt\n",
      "pythia_nosm.root     zc_smbeast_10_100.root    zc_smephenix_5_100.root\n",
      "pythia_smjleic.root  zc_smbeast_18_275.root    zc_smephenix_5_41.root\n",
      "zc_nosm_10_100.root  zc_smbeast_5_100.root     zc_smjleic_10_100.root\n",
      "zc_nosm_18_275.root  zc_smbeast_5_41.root      zc_smjleic_18_275.root\n",
      "zc_nosm_5_100.root   zc_smephenix_10_100.root  zc_smjleic_5_100.root\n",
      "zc_nosm_5_41.root    zc_smephenix_18_275.root  zc_smjleic_5_41.root\n"
     ]
    }
   ],
   "source": [
    "!ls {input_dir}\n",
    "!ls {output_dir}"
   ]
  },
  {
   "cell_type": "markdown",
   "metadata": {},
   "source": [
    "## Create signal TTrees with smearing of all detectors"
   ]
  },
  {
   "cell_type": "code",
   "execution_count": 19,
   "metadata": {
    "collapsed": false,
    "jupyter": {
     "outputs_hidden": false
    },
    "pycharm": {
     "name": "#%%\n"
    }
   },
   "outputs": [
    {
     "data": {
      "application/vnd.jupyter.widget-view+json": {
       "model_id": "d203da5a727042fd8f1e0135df5158d4",
       "version_major": 2,
       "version_minor": 0
      },
      "text/plain": [
       "VBox(children=(HBox(children=(Button(description='Terminate', layout=Layout(display=''), style=ButtonStyle(), …"
      ]
     },
     "metadata": {},
     "output_type": "display_data"
    },
    {
     "data": {
      "application/vnd.jupyter.widget-view+json": {
       "model_id": "d81eaac50b6540be97665d66b48e2ff1",
       "version_major": 2,
       "version_minor": 0
      },
      "text/plain": [
       "VBox(children=(HBox(children=(Button(description='Terminate', layout=Layout(display=''), style=ButtonStyle(), …"
      ]
     },
     "metadata": {},
     "output_type": "display_data"
    },
    {
     "data": {
      "application/vnd.jupyter.widget-view+json": {
       "model_id": "8595534f39274c308b8b0b232bd863bf",
       "version_major": 2,
       "version_minor": 0
      },
      "text/plain": [
       "VBox(children=(HBox(children=(Button(description='Terminate', layout=Layout(display=''), style=ButtonStyle(), …"
      ]
     },
     "metadata": {},
     "output_type": "display_data"
    }
   ],
   "source": [
    "# loop over detectors and make smeard files\n",
    "detectors = ['jleic', 'beast', 'ephenix']\n",
    "\n",
    "for detector_name in detectors:\n",
    "    Jana().plugin('lund_reader')\\\n",
    "          .plugin('event_writer')\\\n",
    "          .plugin('eic_smear', detector=detector_name)\\\n",
    "          .plugin('jana', nevents=50000, output='%s/zc_sm%s_%s.root' % (output_dir,detector_name,input_name))\\\n",
    "          .source('%s/zc_%s.txt' % (input_dir,input_name))\\\n",
    "          .run()"
   ]
  },
  {
   "cell_type": "markdown",
   "metadata": {},
   "source": [
    "To compare smeared data with not smeared, lets create also not smeared data set"
   ]
  },
  {
   "cell_type": "code",
   "execution_count": 21,
   "metadata": {
    "collapsed": false,
    "jupyter": {
     "outputs_hidden": false
    },
    "pycharm": {
     "name": "#%%\n"
    }
   },
   "outputs": [
    {
     "data": {
      "application/vnd.jupyter.widget-view+json": {
       "model_id": "e0ffa6b099c4446db8b42010eb688c81",
       "version_major": 2,
       "version_minor": 0
      },
      "text/plain": [
       "VBox(children=(HBox(children=(Button(description='Terminate', layout=Layout(display=''), style=ButtonStyle(), …"
      ]
     },
     "metadata": {},
     "output_type": "display_data"
    }
   ],
   "source": [
    "Jana().plugin('lund_reader')\\\n",
    "      .plugin('event_writer')\\\n",
    "      .plugin('jana', nevents=50000, output='%s/zc_nosm_%s.root' % (output_dir,input_name))\\\n",
    "      .source('%s/zc_%s.txt' % (input_dir,input_name))\\\n",
    "      .run()"
   ]
  },
  {
   "cell_type": "code",
   "execution_count": 22,
   "metadata": {},
   "outputs": [],
   "source": [
    "# Open root file to test output\n",
    "file = ROOT.TFile('%s/zc_smbeast_10_100.root' % (output_dir))"
   ]
  },
  {
   "cell_type": "code",
   "execution_count": 23,
   "metadata": {},
   "outputs": [],
   "source": [
    "# Preparing histograms\n",
    "PSmearVsPOrig = ROOT.TH2D('PSmearVsPOrig', '; p_{orig} (GeV); p_{smear} (GeV)', 100, 0, 25, 100, 0, 25)\n",
    "\n",
    "pid_only = ROOT.TCut('pdg==11')   # e-"
   ]
  },
  {
   "cell_type": "code",
   "execution_count": 24,
   "metadata": {},
   "outputs": [
    {
     "data": {
      "text/plain": [
       "47317"
      ]
     },
     "execution_count": 24,
     "metadata": {},
     "output_type": "execute_result"
    }
   ],
   "source": [
    "# Reading a tree from the file\n",
    "tree = file.Get('events').Get('tree')\n",
    "\n",
    "# Filling the histograms from the tree\n",
    "canvas = ROOT.TCanvas('canvas', 'canvas',600,400)\n",
    "tree.Draw('p:smear_orig_p >> PSmearVsPOrig', pid_only)"
   ]
  },
  {
   "cell_type": "code",
   "execution_count": 25,
   "metadata": {},
   "outputs": [
    {
     "data": {
      "image/png": "[encoded data removed]",
      "text/plain": [
       "<IPython.core.display.Image object>"
      ]
     },
     "metadata": {},
     "output_type": "display_data"
    }
   ],
   "source": [
    "pad = canvas.cd()\n",
    "#pad.SetLogy(True)\n",
    "PSmearVsPOrig.Draw(\"colz\")\n",
    "canvas.Draw()"
   ]
  },
  {
   "cell_type": "markdown",
   "metadata": {},
   "source": [
    "## Create PYTHIA TTrees with smearing of all generators"
   ]
  },
  {
   "cell_type": "code",
   "execution_count": 39,
   "metadata": {},
   "outputs": [],
   "source": [
    "input_dir = '../../PYTHIA_6.5/PHP/'\n",
    "input_name = 'pythia_PHP_10x100' #'pythia_e-p_10x100_Q0_100k_msel2_PHP'"
   ]
  },
  {
   "cell_type": "code",
   "execution_count": 40,
   "metadata": {},
   "outputs": [
    {
     "data": {
      "application/vnd.jupyter.widget-view+json": {
       "model_id": "88530edaa60340338e4f199f714c011f",
       "version_major": 2,
       "version_minor": 0
      },
      "text/plain": [
       "VBox(children=(HBox(children=(Button(description='Terminate', layout=Layout(display=''), style=ButtonStyle(), …"
      ]
     },
     "metadata": {},
     "output_type": "display_data"
    },
    {
     "data": {
      "application/vnd.jupyter.widget-view+json": {
       "model_id": "8b798e78c8ee45358fc1028f0764a81f",
       "version_major": 2,
       "version_minor": 0
      },
      "text/plain": [
       "VBox(children=(HBox(children=(Button(description='Terminate', layout=Layout(display=''), style=ButtonStyle(), …"
      ]
     },
     "metadata": {},
     "output_type": "display_data"
    }
   ],
   "source": [
    "output_name = '10_100' # Beam energies: 5_41, 5_100, 10_100, 18_275 \n",
    "\n",
    "for detector_name in detectors:\n",
    "    Jana().plugin('lund_reader')\\\n",
    "          .plugin('event_writer')\\\n",
    "          .plugin('eic_smear', detector=detector_name)\\\n",
    "          .plugin('jana', nevents=100000, output='%s/pythia_sm%s_%s.root' % (output_dir,detector_name,output_name))\\\n",
    "          .source('%s/%s.txt' % (input_dir,input_name))\\\n",
    "          .run()"
   ]
  },
  {
   "cell_type": "code",
   "execution_count": 28,
   "metadata": {},
   "outputs": [
    {
     "data": {
      "application/vnd.jupyter.widget-view+json": {
       "model_id": "11ec5bcf9221431e9d0e6899bbb37f14",
       "version_major": 2,
       "version_minor": 0
      },
      "text/plain": [
       "VBox(children=(HBox(children=(Button(description='Terminate', layout=Layout(display=''), style=ButtonStyle(), …"
      ]
     },
     "metadata": {},
     "output_type": "display_data"
    }
   ],
   "source": [
    "Jana().plugin('lund_reader')\\\n",
    "      .plugin('event_writer')\\\n",
    "      .plugin('jana', nevents=100000, output='%s/pythia_nosm.root' % (output_dir))\\\n",
    "      .source('%s/%s.txt' % (input_dir,input_name))\\\n",
    "      .run()"
   ]
  },
  {
   "cell_type": "markdown",
   "metadata": {},
   "source": [
    "## Run TSelector over trees to create Zc histograms"
   ]
  },
  {
   "cell_type": "code",
   "execution_count": 29,
   "metadata": {},
   "outputs": [
    {
     "data": {
      "text/plain": [
       "['selector_zc_C.d', 'selector_zc.C', 'runSelector.C', 'selector_zc.h']"
      ]
     },
     "execution_count": 29,
     "metadata": {},
     "output_type": "execute_result"
    }
   ],
   "source": [
    "os.chdir('/home/eicuser/epw/share/eic_spect/selector/')\n",
    "os.listdir()"
   ]
  },
  {
   "cell_type": "code",
   "execution_count": 30,
   "metadata": {},
   "outputs": [
    {
     "data": {
      "text/plain": [
       "0"
      ]
     },
     "execution_count": 30,
     "metadata": {},
     "output_type": "execute_result"
    },
    {
     "name": "stdout",
     "output_type": "stream",
     "text": [
      "\n",
      "Processing runSelector.C...\n",
      "Processing detector: jleic at 5_41\n",
      "Processing detector: jleic at 5_100\n",
      "Processing detector: jleic at 10_100\n",
      "Processing detector: jleic at 18_275\n",
      "Processing detector: beast at 5_41\n",
      "Processing detector: beast at 5_100\n",
      "Processing detector: beast at 10_100\n",
      "Processing detector: beast at 18_275\n",
      "Processing detector: ephenix at 5_41\n",
      "Processing detector: ephenix at 5_100\n",
      "Processing detector: ephenix at 10_100\n",
      "Processing detector: ephenix at 18_275\n"
     ]
    }
   ],
   "source": [
    "os.system('root -l -b -q runSelector.C')"
   ]
  },
  {
   "cell_type": "code",
   "execution_count": null,
   "metadata": {},
   "outputs": [],
   "source": [
    "# Run plotting macros to make plots"
   ]
  },
  {
   "cell_type": "markdown",
   "metadata": {},
   "source": [
    "## Plotting macro in python workbook"
   ]
  },
  {
   "cell_type": "code",
   "execution_count": null,
   "metadata": {},
   "outputs": [],
   "source": [
    "TFile *file[3];\n",
    "TString detectors[3] = {\"beast\", \"jleic\", \"ephenix\"};\n",
    "TString detectorLabel[3] = {\"BeAST\", \"JLEIC\", \"ePHENIX\"};\n",
    "int color[3] = {1,2,4};\n",
    "\n",
    "    const int num1D = 2; const int num2D = 6;\n",
    "    TString name1D[num1D] = {\"MassElePos\",\"MassJpsiPion\"};\n",
    "    TString name2D[num2D] = {\"DeltaPOverPVsEtaEle\",\"DeltaPOverPVsEtaPos\",\"DeltaPOverPVsEtaPion\",\"PVsEtaEle\",\"PVsEtaPos\",\"PVsEtaPion\"};\n",
    "    TH1F *h1[3];\n",
    "    TH2F *h2[3];\n",
    "    \n",
    "    TCanvas *cc = new TCanvas(\"cc\", \"cc\", 900, 400); cc->Divide(3,1);\n",
    "    TCanvas *dd = new TCanvas(\"dd\", \"dd\", 900, 400); dd->Divide(3,1);\n",
    "    \n",
    "    // process data from each detector in series\n",
    "    for(int i=0; i<3; i++) {\n",
    "        cout<<\"Plotting detector: \"<<detectors[i].Data()<<endl;\n",
    "        file[i] = TFile::Open(Form(\"../outHist/output_%s_%d_%d.root\", detectors[i].Data(), Ee, Ep));\n",
    "    }\n",
    "    \n",
    "    TLine ln[3];\n",
    "    for(int j=0; j<num1D; j++) {\n",
    "        for(int i=0; i<3; i++) {\n",
    "            cc->cd(i+1);\n",
    "            \n",
    "            h1[i] = (TH1F*)file[i]->Get(name1D[j]);\n",
    "            h1[i]->SetLineColor(color[i]);\n",
    "            h1[i]->Draw();\n",
    "            //else h1[i]->Draw(\"same\");\n",
    "            \n",
    "            // add labels and lines to plot\n",
    "            double vertical = h1[i]->GetMaximum()*0.75;\n",
    "            double vertical_offset = vertical * 0.1;\n",
    "            double horizontal = 2.4;\n",
    "            ln[i] = TLine(3.1,0,3.1,h1[i]->GetMaximum());\n",
    "            if(j>0) {\n",
    "                horizontal = 3.4;\n",
    "                ln[i] = TLine(3.9,0,3.9,h1[i]->GetMaximum());\n",
    "            }\n",
    "            \n",
    "            auto *th1 = new TText(horizontal,vertical,Form(\"%s\", detectorLabel[i].Data()));\n",
    "            th1->SetTextAlign(21); th1->SetTextSize(0.07);\n",
    "            auto *th2 = new TText(horizontal,vertical-vertical_offset,Form(\"%d x %d\", Ee, Ep));\n",
    "            th2->SetTextAlign(21); th2->SetTextSize(0.07);\n",
    "            th1->Draw(\"same\"); th2->Draw(\"same\");\n",
    "            \n",
    "            ln[i].SetLineColor(color[i]);\n",
    "            ln[i].SetLineStyle(kDashed);\n",
    "            ln[i].Draw(\"same\");\n",
    "        }\n",
    "        \n",
    "        cc->Print(Form(\"plots/%s_%d_%d.pdf\",name1D[j].Data(),Ee,Ep));\n",
    "    }\n",
    "            \n",
    "    for(int j=0; j<num2D; j++) {\n",
    "        for(int i=0; i<3; i++) {\n",
    "            dd->cd(i+1);\n",
    "            \n",
    "            h2[i] = (TH2F*)file[i]->Get(name2D[j]);\n",
    "            h2[i]->Draw(\"colz\");\n",
    "        \n",
    "            // add labels to plot\n",
    "            double vertical = 0.07;\n",
    "            double vertical_offset = 0.015;\n",
    "            if(j>2) {\n",
    "                vertical = 16;\n",
    "                vertical_offset = 1.5;\n",
    "            }\n",
    "            auto *th1 = new TText(0.5,vertical,Form(\"%s\", detectorLabel[i].Data()));\n",
    "            th1->SetTextAlign(21); th1->SetTextSize(0.07);\n",
    "            auto *th2 = new TText(0.5,vertical-vertical_offset,Form(\"%d x %d\", Ee, Ep));\n",
    "            th2->SetTextAlign(21); th2->SetTextSize(0.07);\n",
    "            th1->Draw(\"same\"); th2->Draw(\"same\");\n",
    "        }\n",
    "        \n",
    "        dd->Print(Form(\"plots/%s_%d_%d.pdf\",name2D[j].Data(),Ee,Ep));\n",
    "    }"
   ]
  }
 ],
 "metadata": {
  "kernelspec": {
   "display_name": "Python 3",
   "language": "python",
   "name": "python3"
  },
  "language_info": {
   "codemirror_mode": {
    "name": "ipython",
    "version": 3
   },
   "file_extension": ".py",
   "mimetype": "text/x-python",
   "name": "python",
   "nbconvert_exporter": "python",
   "pygments_lexer": "ipython3",
   "version": "3.7.6+"
  },
  "pycharm": {
   "stem_cell": {
    "cell_type": "raw",
    "metadata": {
     "collapsed": false
    },
    "source": []
   }
  }
 },
 "nbformat": 4,
 "nbformat_minor": 4
}
